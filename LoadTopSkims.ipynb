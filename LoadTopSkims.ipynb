{
 "cells": [
  {
   "cell_type": "markdown",
   "id": "vocal-thought",
   "metadata": {},
   "source": [
    "## Load tree via uproot"
   ]
  },
  {
   "cell_type": "code",
   "execution_count": null,
   "id": "contemporary-peninsula",
   "metadata": {},
   "outputs": [],
   "source": [
    "import uproot\n",
    "import awkward as ak\n",
    "import numpy as np"
   ]
  },
  {
   "cell_type": "code",
   "execution_count": null,
   "id": "hazardous-barcelona",
   "metadata": {},
   "outputs": [],
   "source": [
    "fileName = '/udrive/staff/dnoonan/Skims/TTGamma_SingleLept_2016_skim.root'\n",
    "_ttg_file = uproot.open(fileName)"
   ]
  },
  {
   "cell_type": "code",
   "execution_count": null,
   "id": "moderate-elizabeth",
   "metadata": {},
   "outputs": [],
   "source": [
    "#look at the objects within the root file (accessible with the list of keys)\n",
    "_ttg_file.keys()"
   ]
  },
  {
   "cell_type": "code",
   "execution_count": null,
   "id": "alternate-young",
   "metadata": {},
   "outputs": [],
   "source": [
    "#Get the TTree named 'Events'\n",
    "_ttg_tree = _ttg_file['Events']"
   ]
  },
  {
   "cell_type": "code",
   "execution_count": null,
   "id": "young-representation",
   "metadata": {},
   "outputs": [],
   "source": [
    "#look at the list of branches within the Events tree\n",
    "_ttg_tree.keys()"
   ]
  },
  {
   "cell_type": "code",
   "execution_count": null,
   "id": "knowing-knock",
   "metadata": {},
   "outputs": [],
   "source": [
    "#Load arrays for the pt and eta of jets in the first 10k events\n",
    "arrays = _ttg_tree.arrays(['Jet_pt','Jet_eta'],entry_stop=10000)"
   ]
  },
  {
   "cell_type": "code",
   "execution_count": null,
   "id": "working-member",
   "metadata": {},
   "outputs": [],
   "source": [
    "arrays['Jet_eta']"
   ]
  },
  {
   "cell_type": "code",
   "execution_count": null,
   "id": "horizontal-regard",
   "metadata": {},
   "outputs": [],
   "source": [
    "arrays['Jet_pt']"
   ]
  },
  {
   "cell_type": "code",
   "execution_count": null,
   "id": "closed-reggae",
   "metadata": {},
   "outputs": [],
   "source": [
    "jetSelect = ((arrays['Jet_pt']>30) & \n",
    "             (abs(arrays['Jet_eta'])<2.4))"
   ]
  },
  {
   "cell_type": "code",
   "execution_count": null,
   "id": "handmade-comfort",
   "metadata": {},
   "outputs": [],
   "source": [
    "jetSelect"
   ]
  },
  {
   "cell_type": "code",
   "execution_count": null,
   "id": "radical-vessel",
   "metadata": {},
   "outputs": [],
   "source": [
    "#keep only good jets\n",
    "goodJetPt = arrays['Jet_pt'][jetSelect]"
   ]
  },
  {
   "cell_type": "code",
   "execution_count": null,
   "id": "amber-aerospace",
   "metadata": {},
   "outputs": [],
   "source": [
    "#count number of jets in each event\n",
    "ak.num(arrays['Jet_pt'])"
   ]
  },
  {
   "cell_type": "code",
   "execution_count": null,
   "id": "after-express",
   "metadata": {},
   "outputs": [],
   "source": [
    "#count number of jets passing selection in each event\n",
    "ak.num(goodJetPt)"
   ]
  },
  {
   "cell_type": "markdown",
   "id": "descending-scope",
   "metadata": {},
   "source": [
    "#### Make plot of pt and eta of all jets, and selected jets"
   ]
  },
  {
   "cell_type": "code",
   "execution_count": null,
   "id": "considerable-senior",
   "metadata": {},
   "outputs": [],
   "source": [
    "import matplotlib.pyplot as plt"
   ]
  },
  {
   "cell_type": "code",
   "execution_count": null,
   "id": "current-hazard",
   "metadata": {},
   "outputs": [],
   "source": [
    "plt.hist(ak.flatten(arrays['Jet_pt']),bins=np.linspace(0,100,101),label='All Jets')\n",
    "plt.hist(ak.flatten(goodJetPt),bins=np.linspace(0,100,101),label='Good Jets')\n",
    "plt.xlabel('Jet $p_T$')\n",
    "plt.legend();"
   ]
  },
  {
   "cell_type": "code",
   "execution_count": null,
   "id": "exceptional-blake",
   "metadata": {},
   "outputs": [],
   "source": []
  },
  {
   "cell_type": "markdown",
   "id": "significant-visit",
   "metadata": {},
   "source": [
    "## Load data with Coffea\n",
    "\n",
    "Use NanoEvents within Coffea to read and interpret file, loading branches"
   ]
  },
  {
   "cell_type": "code",
   "execution_count": null,
   "id": "eleven-perth",
   "metadata": {},
   "outputs": [],
   "source": [
    "import awkward as ak\n",
    "from coffea.nanoevents import NanoEventsFactory, NanoAODSchema\n"
   ]
  },
  {
   "cell_type": "code",
   "execution_count": null,
   "id": "static-seeking",
   "metadata": {},
   "outputs": [],
   "source": [
    "#the NanoAODSchema needs to be adjusted, to remove cross references to FSRPhotons\n",
    "class SkimmedSchema(NanoAODSchema):\n",
    "    def __init__(self, base_form):\n",
    "        base_form[\"contents\"].pop(\"Muon_fsrPhotonIdx\", None)\n",
    "        super().__init__(base_form)\n",
    "\n",
    "fileName = '/udrive/staff/dnoonan/Skims/TTGamma_SingleLept_2016_skim.root'\n",
    "\n",
    "events = NanoEventsFactory.from_root(fileName, schemaclass=SkimmedSchema,entry_stop=10000).events()\n"
   ]
  },
  {
   "cell_type": "markdown",
   "id": "married-pillow",
   "metadata": {},
   "source": [
    "In NanoEvents, objects and properties of those objects "
   ]
  },
  {
   "cell_type": "code",
   "execution_count": null,
   "id": "sorted-spell",
   "metadata": {},
   "outputs": [],
   "source": [
    "#printout of jet pt array\n",
    "events.Jet.pt"
   ]
  },
  {
   "cell_type": "code",
   "execution_count": null,
   "id": "upper-pierre",
   "metadata": {},
   "outputs": [],
   "source": [
    "#printout of jet eta array\n",
    "events.Jet.eta"
   ]
  },
  {
   "cell_type": "code",
   "execution_count": null,
   "id": "active-intermediate",
   "metadata": {},
   "outputs": [],
   "source": [
    "jetSelect = ((events.Jet.pt>30) & \n",
    "             (abs(events.Jet.eta)<2.4))"
   ]
  },
  {
   "cell_type": "code",
   "execution_count": null,
   "id": "hollow-humidity",
   "metadata": {},
   "outputs": [],
   "source": [
    "goodJets = events.Jet[jetSelect]\n",
    "goodJets.pt"
   ]
  },
  {
   "cell_type": "code",
   "execution_count": null,
   "id": "dominican-survival",
   "metadata": {},
   "outputs": [],
   "source": [
    "#histogram of Jet pt for all jets and only selected jets\n",
    "plt.hist(ak.flatten(events.Jet.pt),bins=np.linspace(0,100,101),label='All Jets')\n",
    "plt.hist(ak.flatten(goodJets.pt),bins=np.linspace(0,100,101),label='Good Jets')\n",
    "plt.legend()\n",
    "plt.xlabel('Jet $p_T$');"
   ]
  },
  {
   "cell_type": "code",
   "execution_count": null,
   "id": "bearing-assembly",
   "metadata": {},
   "outputs": [],
   "source": [
    "#histogram of Jet eta for all jets and only selected jets\n",
    "plt.hist(ak.flatten(events.Jet.eta),bins=np.linspace(-5,5,101),label='All Jets')\n",
    "plt.hist(ak.flatten(goodJets.eta),bins=np.linspace(-5,5,101),label='Good Jets')\n",
    "plt.legend()\n",
    "plt.xlabel('Jet $\\eta$');"
   ]
  },
  {
   "cell_type": "markdown",
   "id": "novel-exchange",
   "metadata": {},
   "source": [
    "### Additional steps\n",
    " - Make a plot the pt of the highest pt jet in the event. _(Hint, this will be the first in each event, and awkward arrays support slicing in the same way that a numpy array do, ex: array[startIdx:stopIdx], or multiple axis can be sliced by specifying both ranges with a comma)_\n",
    " - Add an additional selection cut to the jet requirements, requiring all good jets pass the tight ID requirement (accessible with the .isTight method of the Jet class)\n",
    " - Apply the deep CSV b tagger, to select only the subset of good jets with a b-taggind discriminant value (btagDeepB branch) of ≥ 0.6321. Make histograms comparing the distribution of pT and eta for b-tagged jets vs non b-tagged jets\n",
    " - Make histograms counting the number of jets and the number of b-tagged jets (hint: the ak.num function will be used).  \n",
    " - Of the 10000 events we looked at, how many have at least 4 jets, and at least 1 b-tagged jet?  How many if we if we require at least 2 b-tagged jets instead?\n",
    " - Select good muons, requiring pt >30, |eta| < 2.4, tight ID, and relative isolation (pfRelIso04_all) < 0.15\n",
    " - Make a histogram of the muon pt and eta\n",
    " - Select events with exactly 1 good muon, at least 4 jets, and at least one b-tagged jet.  How many events are there?\n",
    " - For these events, make histograms of the pt and eta of the leading photons.\n",
    " - Select good electrons, requiring pt >35, |eta| < 2.1, and tight ID, and make histograms of electron pt and eta\n",
    " - Select events with exactly 1 good electron, 0 good muons, ≥4 jets, ≥1 b-tagged jet, and plot the pt and eta of the leading photon\n",
    " - Make the same plots for a W+gamma sample"
   ]
  },
  {
   "cell_type": "code",
   "execution_count": null,
   "id": "intense-flash",
   "metadata": {},
   "outputs": [],
   "source": []
  },
  {
   "cell_type": "code",
   "execution_count": null,
   "id": "solar-atlanta",
   "metadata": {},
   "outputs": [],
   "source": []
  }
 ],
 "metadata": {
  "kernelspec": {
   "display_name": "Python 3",
   "language": "python",
   "name": "python3"
  },
  "language_info": {
   "codemirror_mode": {
    "name": "ipython",
    "version": 3
   },
   "file_extension": ".py",
   "mimetype": "text/x-python",
   "name": "python",
   "nbconvert_exporter": "python",
   "pygments_lexer": "ipython3",
   "version": "3.7.9"
  }
 },
 "nbformat": 4,
 "nbformat_minor": 5
}
